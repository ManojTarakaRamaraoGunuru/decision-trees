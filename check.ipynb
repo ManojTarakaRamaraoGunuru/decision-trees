{
 "cells": [
  {
   "cell_type": "code",
   "execution_count": 1,
   "id": "883910ce",
   "metadata": {},
   "outputs": [
    {
     "name": "stdout",
     "output_type": "stream",
     "text": [
      "1\n",
      "2\n",
      "4\n",
      "5\n",
      "7\n"
     ]
    }
   ],
   "source": [
    "#basic model of implementatin of a binary search tree.\n",
    "\n",
    "class Node:\n",
    "    def __init__(self, key):\n",
    "        self.key=key\n",
    "        self.left=None\n",
    "        self.right=None\n",
    "\n",
    "def insert(root,key):\n",
    "    if root==None or root.key==key:\n",
    "        return Node(key)\n",
    "    if(root.key>key):\n",
    "        root.left=insert(root.left,key)\n",
    "    else:\n",
    "        root.right=insert(root.right,key)\n",
    "    return root\n",
    "    \n",
    "def inorder(root):\n",
    "    if root == None :\n",
    "        return\n",
    "    inorder(root.left)\n",
    "    print(root.key)\n",
    "    inorder(root.right)\n",
    "    \n",
    "n=5\n",
    "x=[7,5,1,4,2]\n",
    "root=None\n",
    "for i in range(n):\n",
    "    root=insert(root,x[i])\n",
    "inorder(root)"
   ]
  },
  {
   "cell_type": "code",
   "execution_count": null,
   "id": "7be89b8f",
   "metadata": {},
   "outputs": [],
   "source": []
  }
 ],
 "metadata": {
  "kernelspec": {
   "display_name": "Python 3 (ipykernel)",
   "language": "python",
   "name": "python3"
  },
  "language_info": {
   "codemirror_mode": {
    "name": "ipython",
    "version": 3
   },
   "file_extension": ".py",
   "mimetype": "text/x-python",
   "name": "python",
   "nbconvert_exporter": "python",
   "pygments_lexer": "ipython3",
   "version": "3.9.7"
  }
 },
 "nbformat": 4,
 "nbformat_minor": 5
}
