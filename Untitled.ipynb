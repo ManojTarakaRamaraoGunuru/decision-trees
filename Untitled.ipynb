{
 "cells": [
  {
   "cell_type": "code",
   "execution_count": 3,
   "id": "99cb5202",
   "metadata": {},
   "outputs": [],
   "source": [
    "import numpy as np\n",
    "import pandas as pd"
   ]
  },
  {
   "cell_type": "code",
   "execution_count": 105,
   "id": "6d96863f",
   "metadata": {},
   "outputs": [],
   "source": [
    "np.random.seed(42)\n",
    "\n",
    "N = 30\n",
    "P = 5\n",
    "X = pd.DataFrame(np.random.randn(N, P))\n",
    "y = pd.Series(np.random.randn(N))\n"
   ]
  },
  {
   "cell_type": "code",
   "execution_count": 106,
   "id": "30e6ad39",
   "metadata": {},
   "outputs": [],
   "source": [
    "X = pd.concat([pd.Series([1 for i in range(X.shape[0])]),X],axis=1)"
   ]
  },
  {
   "cell_type": "code",
   "execution_count": 107,
   "id": "a3ea3f7a",
   "metadata": {},
   "outputs": [
    {
     "data": {
      "text/html": [
       "<div>\n",
       "<style scoped>\n",
       "    .dataframe tbody tr th:only-of-type {\n",
       "        vertical-align: middle;\n",
       "    }\n",
       "\n",
       "    .dataframe tbody tr th {\n",
       "        vertical-align: top;\n",
       "    }\n",
       "\n",
       "    .dataframe thead th {\n",
       "        text-align: right;\n",
       "    }\n",
       "</style>\n",
       "<table border=\"1\" class=\"dataframe\">\n",
       "  <thead>\n",
       "    <tr style=\"text-align: right;\">\n",
       "      <th></th>\n",
       "      <th>0</th>\n",
       "      <th>0</th>\n",
       "      <th>1</th>\n",
       "      <th>2</th>\n",
       "      <th>3</th>\n",
       "      <th>4</th>\n",
       "    </tr>\n",
       "  </thead>\n",
       "  <tbody>\n",
       "    <tr>\n",
       "      <th>0</th>\n",
       "      <td>1</td>\n",
       "      <td>0.496714</td>\n",
       "      <td>-0.138264</td>\n",
       "      <td>0.647689</td>\n",
       "      <td>1.523030</td>\n",
       "      <td>-0.234153</td>\n",
       "    </tr>\n",
       "    <tr>\n",
       "      <th>1</th>\n",
       "      <td>1</td>\n",
       "      <td>-0.234137</td>\n",
       "      <td>1.579213</td>\n",
       "      <td>0.767435</td>\n",
       "      <td>-0.469474</td>\n",
       "      <td>0.542560</td>\n",
       "    </tr>\n",
       "    <tr>\n",
       "      <th>2</th>\n",
       "      <td>1</td>\n",
       "      <td>-0.463418</td>\n",
       "      <td>-0.465730</td>\n",
       "      <td>0.241962</td>\n",
       "      <td>-1.913280</td>\n",
       "      <td>-1.724918</td>\n",
       "    </tr>\n",
       "    <tr>\n",
       "      <th>3</th>\n",
       "      <td>1</td>\n",
       "      <td>-0.562288</td>\n",
       "      <td>-1.012831</td>\n",
       "      <td>0.314247</td>\n",
       "      <td>-0.908024</td>\n",
       "      <td>-1.412304</td>\n",
       "    </tr>\n",
       "    <tr>\n",
       "      <th>4</th>\n",
       "      <td>1</td>\n",
       "      <td>1.465649</td>\n",
       "      <td>-0.225776</td>\n",
       "      <td>0.067528</td>\n",
       "      <td>-1.424748</td>\n",
       "      <td>-0.544383</td>\n",
       "    </tr>\n",
       "    <tr>\n",
       "      <th>5</th>\n",
       "      <td>1</td>\n",
       "      <td>0.110923</td>\n",
       "      <td>-1.150994</td>\n",
       "      <td>0.375698</td>\n",
       "      <td>-0.600639</td>\n",
       "      <td>-0.291694</td>\n",
       "    </tr>\n",
       "    <tr>\n",
       "      <th>6</th>\n",
       "      <td>1</td>\n",
       "      <td>-0.601707</td>\n",
       "      <td>1.852278</td>\n",
       "      <td>-0.013497</td>\n",
       "      <td>-1.057711</td>\n",
       "      <td>0.822545</td>\n",
       "    </tr>\n",
       "    <tr>\n",
       "      <th>7</th>\n",
       "      <td>1</td>\n",
       "      <td>-1.220844</td>\n",
       "      <td>0.208864</td>\n",
       "      <td>-1.959670</td>\n",
       "      <td>-1.328186</td>\n",
       "      <td>0.196861</td>\n",
       "    </tr>\n",
       "    <tr>\n",
       "      <th>8</th>\n",
       "      <td>1</td>\n",
       "      <td>0.738467</td>\n",
       "      <td>0.171368</td>\n",
       "      <td>-0.115648</td>\n",
       "      <td>-0.301104</td>\n",
       "      <td>-1.478522</td>\n",
       "    </tr>\n",
       "    <tr>\n",
       "      <th>9</th>\n",
       "      <td>1</td>\n",
       "      <td>-0.719844</td>\n",
       "      <td>-0.460639</td>\n",
       "      <td>1.057122</td>\n",
       "      <td>0.343618</td>\n",
       "      <td>-1.763040</td>\n",
       "    </tr>\n",
       "    <tr>\n",
       "      <th>10</th>\n",
       "      <td>1</td>\n",
       "      <td>0.324084</td>\n",
       "      <td>-0.385082</td>\n",
       "      <td>-0.676922</td>\n",
       "      <td>0.611676</td>\n",
       "      <td>1.031000</td>\n",
       "    </tr>\n",
       "    <tr>\n",
       "      <th>11</th>\n",
       "      <td>1</td>\n",
       "      <td>0.931280</td>\n",
       "      <td>-0.839218</td>\n",
       "      <td>-0.309212</td>\n",
       "      <td>0.331263</td>\n",
       "      <td>0.975545</td>\n",
       "    </tr>\n",
       "    <tr>\n",
       "      <th>12</th>\n",
       "      <td>1</td>\n",
       "      <td>-0.479174</td>\n",
       "      <td>-0.185659</td>\n",
       "      <td>-1.106335</td>\n",
       "      <td>-1.196207</td>\n",
       "      <td>0.812526</td>\n",
       "    </tr>\n",
       "    <tr>\n",
       "      <th>13</th>\n",
       "      <td>1</td>\n",
       "      <td>1.356240</td>\n",
       "      <td>-0.072010</td>\n",
       "      <td>1.003533</td>\n",
       "      <td>0.361636</td>\n",
       "      <td>-0.645120</td>\n",
       "    </tr>\n",
       "    <tr>\n",
       "      <th>14</th>\n",
       "      <td>1</td>\n",
       "      <td>0.361396</td>\n",
       "      <td>1.538037</td>\n",
       "      <td>-0.035826</td>\n",
       "      <td>1.564644</td>\n",
       "      <td>-2.619745</td>\n",
       "    </tr>\n",
       "    <tr>\n",
       "      <th>15</th>\n",
       "      <td>1</td>\n",
       "      <td>0.821903</td>\n",
       "      <td>0.087047</td>\n",
       "      <td>-0.299007</td>\n",
       "      <td>0.091761</td>\n",
       "      <td>-1.987569</td>\n",
       "    </tr>\n",
       "    <tr>\n",
       "      <th>16</th>\n",
       "      <td>1</td>\n",
       "      <td>-0.219672</td>\n",
       "      <td>0.357113</td>\n",
       "      <td>1.477894</td>\n",
       "      <td>-0.518270</td>\n",
       "      <td>-0.808494</td>\n",
       "    </tr>\n",
       "    <tr>\n",
       "      <th>17</th>\n",
       "      <td>1</td>\n",
       "      <td>-0.501757</td>\n",
       "      <td>0.915402</td>\n",
       "      <td>0.328751</td>\n",
       "      <td>-0.529760</td>\n",
       "      <td>0.513267</td>\n",
       "    </tr>\n",
       "    <tr>\n",
       "      <th>18</th>\n",
       "      <td>1</td>\n",
       "      <td>0.097078</td>\n",
       "      <td>0.968645</td>\n",
       "      <td>-0.702053</td>\n",
       "      <td>-0.327662</td>\n",
       "      <td>-0.392108</td>\n",
       "    </tr>\n",
       "    <tr>\n",
       "      <th>19</th>\n",
       "      <td>1</td>\n",
       "      <td>-1.463515</td>\n",
       "      <td>0.296120</td>\n",
       "      <td>0.261055</td>\n",
       "      <td>0.005113</td>\n",
       "      <td>-0.234587</td>\n",
       "    </tr>\n",
       "    <tr>\n",
       "      <th>20</th>\n",
       "      <td>1</td>\n",
       "      <td>-1.415371</td>\n",
       "      <td>-0.420645</td>\n",
       "      <td>-0.342715</td>\n",
       "      <td>-0.802277</td>\n",
       "      <td>-0.161286</td>\n",
       "    </tr>\n",
       "    <tr>\n",
       "      <th>21</th>\n",
       "      <td>1</td>\n",
       "      <td>0.404051</td>\n",
       "      <td>1.886186</td>\n",
       "      <td>0.174578</td>\n",
       "      <td>0.257550</td>\n",
       "      <td>-0.074446</td>\n",
       "    </tr>\n",
       "    <tr>\n",
       "      <th>22</th>\n",
       "      <td>1</td>\n",
       "      <td>-1.918771</td>\n",
       "      <td>-0.026514</td>\n",
       "      <td>0.060230</td>\n",
       "      <td>2.463242</td>\n",
       "      <td>-0.192361</td>\n",
       "    </tr>\n",
       "    <tr>\n",
       "      <th>23</th>\n",
       "      <td>1</td>\n",
       "      <td>0.301547</td>\n",
       "      <td>-0.034712</td>\n",
       "      <td>-1.168678</td>\n",
       "      <td>1.142823</td>\n",
       "      <td>0.751933</td>\n",
       "    </tr>\n",
       "    <tr>\n",
       "      <th>24</th>\n",
       "      <td>1</td>\n",
       "      <td>0.791032</td>\n",
       "      <td>-0.909387</td>\n",
       "      <td>1.402794</td>\n",
       "      <td>-1.401851</td>\n",
       "      <td>0.586857</td>\n",
       "    </tr>\n",
       "    <tr>\n",
       "      <th>25</th>\n",
       "      <td>1</td>\n",
       "      <td>2.190456</td>\n",
       "      <td>-0.990536</td>\n",
       "      <td>-0.566298</td>\n",
       "      <td>0.099651</td>\n",
       "      <td>-0.503476</td>\n",
       "    </tr>\n",
       "    <tr>\n",
       "      <th>26</th>\n",
       "      <td>1</td>\n",
       "      <td>-1.550663</td>\n",
       "      <td>0.068563</td>\n",
       "      <td>-1.062304</td>\n",
       "      <td>0.473592</td>\n",
       "      <td>-0.919424</td>\n",
       "    </tr>\n",
       "    <tr>\n",
       "      <th>27</th>\n",
       "      <td>1</td>\n",
       "      <td>1.549934</td>\n",
       "      <td>-0.783253</td>\n",
       "      <td>-0.322062</td>\n",
       "      <td>0.813517</td>\n",
       "      <td>-1.230864</td>\n",
       "    </tr>\n",
       "    <tr>\n",
       "      <th>28</th>\n",
       "      <td>1</td>\n",
       "      <td>0.227460</td>\n",
       "      <td>1.307143</td>\n",
       "      <td>-1.607483</td>\n",
       "      <td>0.184634</td>\n",
       "      <td>0.259883</td>\n",
       "    </tr>\n",
       "    <tr>\n",
       "      <th>29</th>\n",
       "      <td>1</td>\n",
       "      <td>0.781823</td>\n",
       "      <td>-1.236951</td>\n",
       "      <td>-1.320457</td>\n",
       "      <td>0.521942</td>\n",
       "      <td>0.296985</td>\n",
       "    </tr>\n",
       "  </tbody>\n",
       "</table>\n",
       "</div>"
      ],
      "text/plain": [
       "    0         0         1         2         3         4\n",
       "0   1  0.496714 -0.138264  0.647689  1.523030 -0.234153\n",
       "1   1 -0.234137  1.579213  0.767435 -0.469474  0.542560\n",
       "2   1 -0.463418 -0.465730  0.241962 -1.913280 -1.724918\n",
       "3   1 -0.562288 -1.012831  0.314247 -0.908024 -1.412304\n",
       "4   1  1.465649 -0.225776  0.067528 -1.424748 -0.544383\n",
       "5   1  0.110923 -1.150994  0.375698 -0.600639 -0.291694\n",
       "6   1 -0.601707  1.852278 -0.013497 -1.057711  0.822545\n",
       "7   1 -1.220844  0.208864 -1.959670 -1.328186  0.196861\n",
       "8   1  0.738467  0.171368 -0.115648 -0.301104 -1.478522\n",
       "9   1 -0.719844 -0.460639  1.057122  0.343618 -1.763040\n",
       "10  1  0.324084 -0.385082 -0.676922  0.611676  1.031000\n",
       "11  1  0.931280 -0.839218 -0.309212  0.331263  0.975545\n",
       "12  1 -0.479174 -0.185659 -1.106335 -1.196207  0.812526\n",
       "13  1  1.356240 -0.072010  1.003533  0.361636 -0.645120\n",
       "14  1  0.361396  1.538037 -0.035826  1.564644 -2.619745\n",
       "15  1  0.821903  0.087047 -0.299007  0.091761 -1.987569\n",
       "16  1 -0.219672  0.357113  1.477894 -0.518270 -0.808494\n",
       "17  1 -0.501757  0.915402  0.328751 -0.529760  0.513267\n",
       "18  1  0.097078  0.968645 -0.702053 -0.327662 -0.392108\n",
       "19  1 -1.463515  0.296120  0.261055  0.005113 -0.234587\n",
       "20  1 -1.415371 -0.420645 -0.342715 -0.802277 -0.161286\n",
       "21  1  0.404051  1.886186  0.174578  0.257550 -0.074446\n",
       "22  1 -1.918771 -0.026514  0.060230  2.463242 -0.192361\n",
       "23  1  0.301547 -0.034712 -1.168678  1.142823  0.751933\n",
       "24  1  0.791032 -0.909387  1.402794 -1.401851  0.586857\n",
       "25  1  2.190456 -0.990536 -0.566298  0.099651 -0.503476\n",
       "26  1 -1.550663  0.068563 -1.062304  0.473592 -0.919424\n",
       "27  1  1.549934 -0.783253 -0.322062  0.813517 -1.230864\n",
       "28  1  0.227460  1.307143 -1.607483  0.184634  0.259883\n",
       "29  1  0.781823 -1.236951 -1.320457  0.521942  0.296985"
      ]
     },
     "execution_count": 107,
     "metadata": {},
     "output_type": "execute_result"
    }
   ],
   "source": [
    "X"
   ]
  },
  {
   "cell_type": "code",
   "execution_count": 108,
   "id": "3ad1e35b",
   "metadata": {},
   "outputs": [
    {
     "data": {
      "text/plain": [
       "array([[ 1.        ,  0.49671415, -0.1382643 ,  0.64768854,  1.52302986,\n",
       "        -0.23415337],\n",
       "       [ 1.        , -0.23413696,  1.57921282,  0.76743473, -0.46947439,\n",
       "         0.54256004],\n",
       "       [ 1.        , -0.46341769, -0.46572975,  0.24196227, -1.91328024,\n",
       "        -1.72491783],\n",
       "       [ 1.        , -0.56228753, -1.01283112,  0.31424733, -0.90802408,\n",
       "        -1.4123037 ],\n",
       "       [ 1.        ,  1.46564877, -0.2257763 ,  0.0675282 , -1.42474819,\n",
       "        -0.54438272],\n",
       "       [ 1.        ,  0.11092259, -1.15099358,  0.37569802, -0.60063869,\n",
       "        -0.29169375],\n",
       "       [ 1.        , -0.60170661,  1.85227818, -0.01349722, -1.05771093,\n",
       "         0.82254491],\n",
       "       [ 1.        , -1.22084365,  0.2088636 , -1.95967012, -1.32818605,\n",
       "         0.19686124],\n",
       "       [ 1.        ,  0.73846658,  0.17136828, -0.11564828, -0.3011037 ,\n",
       "        -1.47852199],\n",
       "       [ 1.        , -0.71984421, -0.46063877,  1.05712223,  0.34361829,\n",
       "        -1.76304016],\n",
       "       [ 1.        ,  0.32408397, -0.38508228, -0.676922  ,  0.61167629,\n",
       "         1.03099952],\n",
       "       [ 1.        ,  0.93128012, -0.83921752, -0.30921238,  0.33126343,\n",
       "         0.97554513],\n",
       "       [ 1.        , -0.47917424, -0.18565898, -1.10633497, -1.19620662,\n",
       "         0.81252582],\n",
       "       [ 1.        ,  1.35624003, -0.07201012,  1.0035329 ,  0.36163603,\n",
       "        -0.64511975],\n",
       "       [ 1.        ,  0.36139561,  1.53803657, -0.03582604,  1.56464366,\n",
       "        -2.6197451 ],\n",
       "       [ 1.        ,  0.8219025 ,  0.08704707, -0.29900735,  0.09176078,\n",
       "        -1.98756891],\n",
       "       [ 1.        , -0.21967189,  0.35711257,  1.47789404, -0.51827022,\n",
       "        -0.8084936 ],\n",
       "       [ 1.        , -0.50175704,  0.91540212,  0.32875111, -0.5297602 ,\n",
       "         0.51326743],\n",
       "       [ 1.        ,  0.09707755,  0.96864499, -0.70205309, -0.32766215,\n",
       "        -0.39210815],\n",
       "       [ 1.        , -1.46351495,  0.29612028,  0.26105527,  0.00511346,\n",
       "        -0.23458713],\n",
       "       [ 1.        , -1.41537074, -0.42064532, -0.34271452, -0.80227727,\n",
       "        -0.16128571],\n",
       "       [ 1.        ,  0.40405086,  1.8861859 ,  0.17457781,  0.25755039,\n",
       "        -0.07444592],\n",
       "       [ 1.        , -1.91877122, -0.02651388,  0.06023021,  2.46324211,\n",
       "        -0.19236096],\n",
       "       [ 1.        ,  0.30154734, -0.03471177, -1.16867804,  1.14282281,\n",
       "         0.75193303],\n",
       "       [ 1.        ,  0.79103195, -0.90938745,  1.40279431, -1.40185106,\n",
       "         0.58685709],\n",
       "       [ 1.        ,  2.19045563, -0.99053633, -0.56629773,  0.09965137,\n",
       "        -0.50347565],\n",
       "       [ 1.        , -1.55066343,  0.06856297, -1.06230371,  0.47359243,\n",
       "        -0.91942423],\n",
       "       [ 1.        ,  1.54993441, -0.78325329, -0.32206152,  0.81351722,\n",
       "        -1.23086432],\n",
       "       [ 1.        ,  0.22745993,  1.30714275, -1.60748323,  0.18463386,\n",
       "         0.25988279],\n",
       "       [ 1.        ,  0.78182287, -1.23695071, -1.32045661,  0.52194157,\n",
       "         0.29698467]])"
      ]
     },
     "execution_count": 108,
     "metadata": {},
     "output_type": "execute_result"
    }
   ],
   "source": [
    "np.array(X)"
   ]
  },
  {
   "cell_type": "code",
   "execution_count": 85,
   "id": "beac953d",
   "metadata": {},
   "outputs": [],
   "source": [
    "B=X.to_numpy()"
   ]
  },
  {
   "cell_type": "code",
   "execution_count": 90,
   "id": "de9f06b4",
   "metadata": {},
   "outputs": [
    {
     "name": "stdout",
     "output_type": "stream",
     "text": [
      "0.7674347291529088\n"
     ]
    },
    {
     "data": {
      "text/html": [
       "<div>\n",
       "<style scoped>\n",
       "    .dataframe tbody tr th:only-of-type {\n",
       "        vertical-align: middle;\n",
       "    }\n",
       "\n",
       "    .dataframe tbody tr th {\n",
       "        vertical-align: top;\n",
       "    }\n",
       "\n",
       "    .dataframe thead th {\n",
       "        text-align: right;\n",
       "    }\n",
       "</style>\n",
       "<table border=\"1\" class=\"dataframe\">\n",
       "  <thead>\n",
       "    <tr style=\"text-align: right;\">\n",
       "      <th></th>\n",
       "      <th>0</th>\n",
       "      <th>0</th>\n",
       "      <th>1</th>\n",
       "      <th>2</th>\n",
       "      <th>3</th>\n",
       "      <th>4</th>\n",
       "    </tr>\n",
       "  </thead>\n",
       "  <tbody>\n",
       "    <tr>\n",
       "      <th>0</th>\n",
       "      <td>1</td>\n",
       "      <td>0.496714</td>\n",
       "      <td>-0.138264</td>\n",
       "      <td>0.647689</td>\n",
       "      <td>1.523030</td>\n",
       "      <td>-0.234153</td>\n",
       "    </tr>\n",
       "    <tr>\n",
       "      <th>1</th>\n",
       "      <td>1</td>\n",
       "      <td>-0.234137</td>\n",
       "      <td>1.579213</td>\n",
       "      <td>0.767435</td>\n",
       "      <td>-0.469474</td>\n",
       "      <td>0.542560</td>\n",
       "    </tr>\n",
       "    <tr>\n",
       "      <th>2</th>\n",
       "      <td>1</td>\n",
       "      <td>-0.463418</td>\n",
       "      <td>-0.465730</td>\n",
       "      <td>0.241962</td>\n",
       "      <td>-1.913280</td>\n",
       "      <td>-1.724918</td>\n",
       "    </tr>\n",
       "    <tr>\n",
       "      <th>3</th>\n",
       "      <td>1</td>\n",
       "      <td>-0.562288</td>\n",
       "      <td>-1.012831</td>\n",
       "      <td>0.314247</td>\n",
       "      <td>-0.908024</td>\n",
       "      <td>-1.412304</td>\n",
       "    </tr>\n",
       "    <tr>\n",
       "      <th>4</th>\n",
       "      <td>1</td>\n",
       "      <td>1.465649</td>\n",
       "      <td>-0.225776</td>\n",
       "      <td>0.067528</td>\n",
       "      <td>-1.424748</td>\n",
       "      <td>-0.544383</td>\n",
       "    </tr>\n",
       "  </tbody>\n",
       "</table>\n",
       "</div>"
      ],
      "text/plain": [
       "   0         0         1         2         3         4\n",
       "0  1  0.496714 -0.138264  0.647689  1.523030 -0.234153\n",
       "1  1 -0.234137  1.579213  0.767435 -0.469474  0.542560\n",
       "2  1 -0.463418 -0.465730  0.241962 -1.913280 -1.724918\n",
       "3  1 -0.562288 -1.012831  0.314247 -0.908024 -1.412304\n",
       "4  1  1.465649 -0.225776  0.067528 -1.424748 -0.544383"
      ]
     },
     "execution_count": 90,
     "metadata": {},
     "output_type": "execute_result"
    }
   ],
   "source": [
    "print(A.iloc[1,3])\n",
    "A"
   ]
  },
  {
   "cell_type": "code",
   "execution_count": 91,
   "id": "4bb92ac2",
   "metadata": {},
   "outputs": [
    {
     "name": "stdout",
     "output_type": "stream",
     "text": [
      "[[ 1.          0.49671415 -0.1382643   0.64768854  1.52302986 -0.23415337]\n",
      " [ 1.         -0.23413696  1.57921282  0.76743473 -0.46947439  0.54256004]\n",
      " [ 1.         -0.46341769 -0.46572975  0.24196227 -1.91328024 -1.72491783]\n",
      " [ 1.         -0.56228753 -1.01283112  0.31424733 -0.90802408 -1.4123037 ]\n",
      " [ 1.          1.46564877 -0.2257763   0.0675282  -1.42474819 -0.54438272]]\n"
     ]
    },
    {
     "data": {
      "text/plain": [
       "0.7674347291529088"
      ]
     },
     "execution_count": 91,
     "metadata": {},
     "output_type": "execute_result"
    }
   ],
   "source": [
    "print(B)\n",
    "B[1][3]"
   ]
  },
  {
   "cell_type": "code",
   "execution_count": 41,
   "id": "e5e85144",
   "metadata": {},
   "outputs": [
    {
     "data": {
      "text/html": [
       "<div>\n",
       "<style scoped>\n",
       "    .dataframe tbody tr th:only-of-type {\n",
       "        vertical-align: middle;\n",
       "    }\n",
       "\n",
       "    .dataframe tbody tr th {\n",
       "        vertical-align: top;\n",
       "    }\n",
       "\n",
       "    .dataframe thead th {\n",
       "        text-align: right;\n",
       "    }\n",
       "</style>\n",
       "<table border=\"1\" class=\"dataframe\">\n",
       "  <thead>\n",
       "    <tr style=\"text-align: right;\">\n",
       "      <th></th>\n",
       "      <th>0</th>\n",
       "      <th>0</th>\n",
       "      <th>1</th>\n",
       "      <th>2</th>\n",
       "      <th>3</th>\n",
       "      <th>4</th>\n",
       "    </tr>\n",
       "  </thead>\n",
       "  <tbody>\n",
       "    <tr>\n",
       "      <th>0</th>\n",
       "      <td>1</td>\n",
       "      <td>0.110923</td>\n",
       "      <td>-1.150994</td>\n",
       "      <td>0.375698</td>\n",
       "      <td>-0.600639</td>\n",
       "      <td>-0.291694</td>\n",
       "    </tr>\n",
       "    <tr>\n",
       "      <th>1</th>\n",
       "      <td>1</td>\n",
       "      <td>-0.601707</td>\n",
       "      <td>1.852278</td>\n",
       "      <td>-0.013497</td>\n",
       "      <td>-1.057711</td>\n",
       "      <td>0.822545</td>\n",
       "    </tr>\n",
       "    <tr>\n",
       "      <th>2</th>\n",
       "      <td>1</td>\n",
       "      <td>-1.220844</td>\n",
       "      <td>0.208864</td>\n",
       "      <td>-1.959670</td>\n",
       "      <td>-1.328186</td>\n",
       "      <td>0.196861</td>\n",
       "    </tr>\n",
       "  </tbody>\n",
       "</table>\n",
       "</div>"
      ],
      "text/plain": [
       "   0         0         1         2         3         4\n",
       "0  1  0.110923 -1.150994  0.375698 -0.600639 -0.291694\n",
       "1  1 -0.601707  1.852278 -0.013497 -1.057711  0.822545\n",
       "2  1 -1.220844  0.208864 -1.959670 -1.328186  0.196861"
      ]
     },
     "execution_count": 41,
     "metadata": {},
     "output_type": "execute_result"
    }
   ],
   "source": [
    "X.iloc[5:8].reset_index(drop=1)"
   ]
  },
  {
   "cell_type": "code",
   "execution_count": 16,
   "id": "d8ff9479",
   "metadata": {},
   "outputs": [
    {
     "data": {
      "text/plain": [
       "array([ 1.        ,  0.49671415, -0.1382643 ,  0.64768854,  1.52302986,\n",
       "       -0.23415337])"
      ]
     },
     "execution_count": 16,
     "metadata": {},
     "output_type": "execute_result"
    }
   ],
   "source": [
    "X[0,:]"
   ]
  },
  {
   "cell_type": "code",
   "execution_count": 18,
   "id": "aa2e8458",
   "metadata": {},
   "outputs": [
    {
     "data": {
      "text/plain": [
       "array([[0.],\n",
       "       [0.],\n",
       "       [0.],\n",
       "       [0.],\n",
       "       [0.]])"
      ]
     },
     "execution_count": 18,
     "metadata": {},
     "output_type": "execute_result"
    }
   ],
   "source": [
    " np.zeros((5,1))"
   ]
  },
  {
   "cell_type": "code",
   "execution_count": 34,
   "id": "0ff5585c",
   "metadata": {},
   "outputs": [
    {
     "name": "stdout",
     "output_type": "stream",
     "text": [
      "[[0.44224251]\n",
      " [0.65739045]\n",
      " [0.52778639]\n",
      " [0.35635317]\n",
      " [0.89149097]\n",
      " [0.81474563]]\n"
     ]
    },
    {
     "data": {
      "text/plain": [
       "array([[0.44224251],\n",
       "       [0.65739045],\n",
       "       [0.52778639],\n",
       "       [0.35635317],\n",
       "       [0.89149097],\n",
       "       [0.81474563]])"
      ]
     },
     "execution_count": 34,
     "metadata": {},
     "output_type": "execute_result"
    }
   ],
   "source": [
    "# y=y.to_numpy()\n",
    "y_i = np.reshape(y, (len(y),1))\n",
    "\n",
    "print(np.matmul(X.T,y_i[:5,:]))\n",
    "y_i[:5,:]\n",
    "np.matmul(X.T,y_i[:5,:])"
   ]
  },
  {
   "cell_type": "code",
   "execution_count": 42,
   "id": "9ef90ed1",
   "metadata": {},
   "outputs": [],
   "source": [
    "y=pd.Series(np.random.rand(5))"
   ]
  },
  {
   "cell_type": "code",
   "execution_count": 43,
   "id": "124130a6",
   "metadata": {},
   "outputs": [
    {
     "data": {
      "text/plain": [
       "(5,)"
      ]
     },
     "execution_count": 43,
     "metadata": {},
     "output_type": "execute_result"
    }
   ],
   "source": [
    "y.shape"
   ]
  },
  {
   "cell_type": "code",
   "execution_count": 44,
   "id": "ec8c4038",
   "metadata": {},
   "outputs": [],
   "source": [
    "y=y.to_numpy()"
   ]
  },
  {
   "cell_type": "code",
   "execution_count": 45,
   "id": "b400f377",
   "metadata": {},
   "outputs": [
    {
     "data": {
      "text/plain": [
       "(5,)"
      ]
     },
     "execution_count": 45,
     "metadata": {},
     "output_type": "execute_result"
    }
   ],
   "source": [
    "y.shape"
   ]
  },
  {
   "cell_type": "code",
   "execution_count": 68,
   "id": "070fce10",
   "metadata": {},
   "outputs": [],
   "source": [
    "a=np.zeros((5,4))"
   ]
  },
  {
   "cell_type": "code",
   "execution_count": 69,
   "id": "91ef3538",
   "metadata": {},
   "outputs": [
    {
     "data": {
      "text/plain": [
       "array([[0., 0., 0., 0.],\n",
       "       [0., 0., 0., 0.],\n",
       "       [0., 0., 0., 0.],\n",
       "       [0., 0., 0., 0.],\n",
       "       [0., 0., 0., 0.]])"
      ]
     },
     "execution_count": 69,
     "metadata": {},
     "output_type": "execute_result"
    }
   ],
   "source": [
    "a"
   ]
  },
  {
   "cell_type": "code",
   "execution_count": 70,
   "id": "8cd0b4b6",
   "metadata": {},
   "outputs": [
    {
     "data": {
      "text/plain": [
       "(5, 4)"
      ]
     },
     "execution_count": 70,
     "metadata": {},
     "output_type": "execute_result"
    }
   ],
   "source": [
    "a.shape"
   ]
  },
  {
   "cell_type": "code",
   "execution_count": 71,
   "id": "cd8297b9",
   "metadata": {},
   "outputs": [],
   "source": [
    "a=np.random.randint((5,5))"
   ]
  },
  {
   "cell_type": "code",
   "execution_count": 75,
   "id": "9d4342cd",
   "metadata": {},
   "outputs": [],
   "source": [
    "b=np.random.randint((5,5))"
   ]
  },
  {
   "cell_type": "code",
   "execution_count": 76,
   "id": "24dea6aa",
   "metadata": {},
   "outputs": [
    {
     "data": {
      "text/plain": [
       "(2,)"
      ]
     },
     "execution_count": 76,
     "metadata": {},
     "output_type": "execute_result"
    }
   ],
   "source": [
    "a.shape"
   ]
  },
  {
   "cell_type": "code",
   "execution_count": 77,
   "id": "851b7800",
   "metadata": {},
   "outputs": [
    {
     "data": {
      "text/plain": [
       "array([2, 3])"
      ]
     },
     "execution_count": 77,
     "metadata": {},
     "output_type": "execute_result"
    }
   ],
   "source": [
    "a"
   ]
  },
  {
   "cell_type": "code",
   "execution_count": 78,
   "id": "3e319602",
   "metadata": {},
   "outputs": [
    {
     "data": {
      "text/plain": [
       "array([0, 4])"
      ]
     },
     "execution_count": 78,
     "metadata": {},
     "output_type": "execute_result"
    }
   ],
   "source": [
    "b"
   ]
  },
  {
   "cell_type": "code",
   "execution_count": 79,
   "id": "bc206afe",
   "metadata": {},
   "outputs": [
    {
     "data": {
      "text/plain": [
       "12"
      ]
     },
     "execution_count": 79,
     "metadata": {},
     "output_type": "execute_result"
    }
   ],
   "source": [
    "np.matmul(a.T,b)"
   ]
  },
  {
   "cell_type": "code",
   "execution_count": 92,
   "id": "da8d48a8",
   "metadata": {},
   "outputs": [
    {
     "data": {
      "text/plain": [
       "array([ 2, -1])"
      ]
     },
     "execution_count": 92,
     "metadata": {},
     "output_type": "execute_result"
    }
   ],
   "source": [
    "a-=b\n",
    "a"
   ]
  },
  {
   "cell_type": "code",
   "execution_count": 93,
   "id": "ce48523c",
   "metadata": {},
   "outputs": [],
   "source": [
    "y = pd.Series(np.random.randn(N))"
   ]
  },
  {
   "cell_type": "code",
   "execution_count": 94,
   "id": "bc93aa06",
   "metadata": {},
   "outputs": [
    {
     "data": {
      "text/plain": [
       "0     0.625667\n",
       "1    -0.857158\n",
       "2    -1.070892\n",
       "3     0.482472\n",
       "4    -0.223463\n",
       "5     0.714000\n",
       "6     0.473238\n",
       "7    -0.072829\n",
       "8    -0.846794\n",
       "9    -1.514847\n",
       "10   -0.446515\n",
       "11    0.856399\n",
       "12    0.214094\n",
       "13   -1.245739\n",
       "14    0.173181\n",
       "15    0.385317\n",
       "16   -0.883857\n",
       "17    0.153725\n",
       "18    0.058209\n",
       "19   -1.142970\n",
       "20    0.357787\n",
       "21    0.560785\n",
       "22    1.083051\n",
       "23    1.053802\n",
       "24   -1.377669\n",
       "25   -0.937825\n",
       "26    0.515035\n",
       "27    0.513786\n",
       "28    0.515048\n",
       "29    3.852731\n",
       "dtype: float64"
      ]
     },
     "execution_count": 94,
     "metadata": {},
     "output_type": "execute_result"
    }
   ],
   "source": [
    "y"
   ]
  },
  {
   "cell_type": "code",
   "execution_count": 95,
   "id": "96a68688",
   "metadata": {},
   "outputs": [],
   "source": [
    "y=y.to_numpy()"
   ]
  },
  {
   "cell_type": "code",
   "execution_count": 96,
   "id": "2973cd42",
   "metadata": {},
   "outputs": [
    {
     "data": {
      "text/plain": [
       "array([ 0.62566735, -0.85715756, -1.0708925 ,  0.48247242, -0.22346279,\n",
       "        0.71400049,  0.47323762, -0.07282891, -0.84679372, -1.51484722,\n",
       "       -0.44651495,  0.85639879,  0.21409374, -1.24573878,  0.17318093,\n",
       "        0.38531738, -0.88385744,  0.15372511,  0.05820872, -1.1429703 ,\n",
       "        0.35778736,  0.56078453,  1.08305124,  1.05380205, -1.37766937,\n",
       "       -0.93782504,  0.51503527,  0.51378595,  0.51504769,  3.85273149])"
      ]
     },
     "execution_count": 96,
     "metadata": {},
     "output_type": "execute_result"
    }
   ],
   "source": [
    "y"
   ]
  },
  {
   "cell_type": "code",
   "execution_count": 97,
   "id": "1cd08177",
   "metadata": {},
   "outputs": [
    {
     "data": {
      "text/plain": [
       "array([ 0.71400049,  0.47323762, -0.07282891])"
      ]
     },
     "execution_count": 97,
     "metadata": {},
     "output_type": "execute_result"
    }
   ],
   "source": [
    "y[5:8]"
   ]
  },
  {
   "cell_type": "code",
   "execution_count": 103,
   "id": "06d4a91e",
   "metadata": {},
   "outputs": [
    {
     "data": {
      "text/plain": [
       "array([[ 0.62566735],\n",
       "       [-0.85715756],\n",
       "       [-1.0708925 ],\n",
       "       [ 0.48247242],\n",
       "       [-0.22346279],\n",
       "       [ 0.71400049],\n",
       "       [ 0.47323762],\n",
       "       [-0.07282891],\n",
       "       [-0.84679372],\n",
       "       [-1.51484722],\n",
       "       [-0.44651495],\n",
       "       [ 0.85639879],\n",
       "       [ 0.21409374],\n",
       "       [-1.24573878],\n",
       "       [ 0.17318093],\n",
       "       [ 0.38531738],\n",
       "       [-0.88385744],\n",
       "       [ 0.15372511],\n",
       "       [ 0.05820872],\n",
       "       [-1.1429703 ],\n",
       "       [ 0.35778736],\n",
       "       [ 0.56078453],\n",
       "       [ 1.08305124],\n",
       "       [ 1.05380205],\n",
       "       [-1.37766937],\n",
       "       [-0.93782504],\n",
       "       [ 0.51503527],\n",
       "       [ 0.51378595],\n",
       "       [ 0.51504769],\n",
       "       [ 3.85273149]])"
      ]
     },
     "execution_count": 103,
     "metadata": {},
     "output_type": "execute_result"
    }
   ],
   "source": [
    "np.reshape(y,(30,1))\n"
   ]
  },
  {
   "cell_type": "code",
   "execution_count": 104,
   "id": "2c5b3cb5",
   "metadata": {},
   "outputs": [
    {
     "data": {
      "text/plain": [
       "array([[ 0.71400049],\n",
       "       [ 0.47323762],\n",
       "       [-0.07282891]])"
      ]
     },
     "execution_count": 104,
     "metadata": {},
     "output_type": "execute_result"
    }
   ],
   "source": [
    "y[5:8]"
   ]
  },
  {
   "cell_type": "code",
   "execution_count": 109,
   "id": "6272e045",
   "metadata": {},
   "outputs": [
    {
     "data": {
      "text/plain": [
       "array([[0., 0.],\n",
       "       [0., 0.],\n",
       "       [0., 0.]])"
      ]
     },
     "execution_count": 109,
     "metadata": {},
     "output_type": "execute_result"
    }
   ],
   "source": [
    "np.zeros((3,2))"
   ]
  },
  {
   "cell_type": "code",
   "execution_count": null,
   "id": "81cbfea6",
   "metadata": {},
   "outputs": [],
   "source": []
  }
 ],
 "metadata": {
  "kernelspec": {
   "display_name": "Python 3 (ipykernel)",
   "language": "python",
   "name": "python3"
  },
  "language_info": {
   "codemirror_mode": {
    "name": "ipython",
    "version": 3
   },
   "file_extension": ".py",
   "mimetype": "text/x-python",
   "name": "python",
   "nbconvert_exporter": "python",
   "pygments_lexer": "ipython3",
   "version": "3.9.7"
  }
 },
 "nbformat": 4,
 "nbformat_minor": 5
}
